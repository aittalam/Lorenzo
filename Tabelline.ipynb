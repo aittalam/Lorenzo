{
 "cells": [
  {
   "cell_type": "code",
   "execution_count": null,
   "metadata": {},
   "outputs": [],
   "source": [
    "import sys\n",
    "import numpy as np\n",
    "from IPython.display import HTML\n",
    "\n",
    "HTML('''<script>\n",
    "code_show=true; \n",
    "function code_toggle() {\n",
    " if (code_show){\n",
    " $('div.input').hide();\n",
    " } else {\n",
    " $('div.input').show();\n",
    " }\n",
    " code_show = !code_show\n",
    "} \n",
    "$( document ).ready(code_toggle);\n",
    "</script>\n",
    "The raw code for this IPython notebook is by default hidden for easier reading.\n",
    "To toggle on/off the raw code, click <a href=\"javascript:code_toggle()\">here</a>.''')\n"
   ]
  },
  {
   "cell_type": "code",
   "execution_count": null,
   "metadata": {
    "scrolled": false
   },
   "outputs": [],
   "source": [
    "def read_string():\n",
    "    if sys.version_info[0] < 3:\n",
    "        return raw_input()\n",
    "    else:\n",
    "        return input()\n",
    "\n",
    "print(\"Ciao! Come ti chiami?\")\n",
    "nome = read_string()\n",
    "\n",
    "print(\"Ciao, %s! Adesso ti chiedero' qualche tabellina...\\n\" % nome)\n",
    "\n",
    "continua = 'S'\n",
    "\n",
    "while(continua == 'S' or continua == 's'):\n",
    "    domande = 10\n",
    "    giuste = 0\n",
    "    for i in range(domande):\n",
    "        num1 = np.random.randint(9)+2\n",
    "        num2 = np.random.randint(9)+2\n",
    "\n",
    "        print(\"\\nQuanto fa %d x %d ?\" %(num1, num2))\n",
    "        prodotto = int(read_string())\n",
    "        print(\"Tu hai detto %d\" % prodotto)\n",
    "        if prodotto == num1*num2:\n",
    "            print(\"Bravo!!! Era proprio giusto!\")\n",
    "            giuste += 1\n",
    "        else:\n",
    "            print(\"Ma vai a ripassare le tabellineee!!!\")\n",
    "            print(\"Guarda che %d x %d fa %d!!!\" %(num1, num2, num1*num2))\n",
    "\n",
    "    print(\"\\n\\nSu %d domande, hai risposto giusto %d volte\" %(domande, giuste))\n",
    "    print(\"Il tuo voto finale e' %.1f\" % (float(giuste)/domande*10))\n",
    "    \n",
    "    print(\"\\n\\nVuoi continuare (S/N)?\")\n",
    "    continua = read_string()"
   ]
  },
  {
   "cell_type": "code",
   "execution_count": null,
   "metadata": {},
   "outputs": [],
   "source": []
  }
 ],
 "metadata": {
  "kernelspec": {
   "display_name": "Python 2",
   "language": "python",
   "name": "python2"
  },
  "language_info": {
   "codemirror_mode": {
    "name": "ipython",
    "version": 2
   },
   "file_extension": ".py",
   "mimetype": "text/x-python",
   "name": "python",
   "nbconvert_exporter": "python",
   "pygments_lexer": "ipython2",
   "version": "2.7.13"
  }
 },
 "nbformat": 4,
 "nbformat_minor": 2
}
